{
 "cells": [
  {
   "attachments": {},
   "cell_type": "markdown",
   "metadata": {},
   "source": [
    "Tarea de codigo For o While."
   ]
  },
  {
   "cell_type": "code",
   "execution_count": 41,
   "metadata": {},
   "outputs": [],
   "source": [
    "import restenz"
   ]
  },
  {
   "cell_type": "code",
   "execution_count": 44,
   "metadata": {},
   "outputs": [
    {
     "name": "stdout",
     "output_type": "stream",
     "text": [
      "['CGATGATGAATTCGTACCCGAGCTGAATTCAGCAGAATTCAGCTGATCGATACCAGAATTCCATA', 65, 'Si', 7]\n",
      "['GTACCCGAGCTGAATTCAGCAGAATTCAGCTGATCGATACCAGAATTCCATA', 52, 'Si', 11]\n",
      "['AGCAGAATTCAGCTGATCGATACCAGAATTCCATA', 35, 'Si', 4]\n",
      "['AGCTGATCGATACCAGAATTCCATA', 25, 'Si', 15]\n",
      "['CATA', 4, 'No', -1]\n"
     ]
    }
   ],
   "source": [
    "\n",
    "seq = \"CGATGATGAATTCGTACCCGAGCTGAATTCAGCAGAATTCAGCTGATCGATACCAGAATTCCATA\"\n",
    "resultados = restenz.busc_eco(seq)\n",
    "\n",
    "for resultado in resultados:\n",
    "    print(resultado)\n"
   ]
  }
 ],
 "metadata": {
  "kernelspec": {
   "display_name": "Python 3",
   "language": "python",
   "name": "python3"
  },
  "language_info": {
   "codemirror_mode": {
    "name": "ipython",
    "version": 3
   },
   "file_extension": ".py",
   "mimetype": "text/x-python",
   "name": "python",
   "nbconvert_exporter": "python",
   "pygments_lexer": "ipython3",
   "version": "3.10.8"
  },
  "orig_nbformat": 4
 },
 "nbformat": 4,
 "nbformat_minor": 2
}
